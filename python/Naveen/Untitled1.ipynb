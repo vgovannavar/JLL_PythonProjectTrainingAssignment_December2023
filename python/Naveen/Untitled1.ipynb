{
 "cells": [
  {
   "cell_type": "code",
   "execution_count": null,
   "id": "ad074a20-58bd-400d-8ed2-355efa25a262",
   "metadata": {},
   "outputs": [],
   "source": [
    "#Before running the pdf try to install the plugin fpdf"
   ]
  },
  {
   "cell_type": "code",
   "execution_count": 1,
   "id": "1cf0db10-d25f-4753-a630-702cfec0ebdf",
   "metadata": {
    "tags": []
   },
   "outputs": [
    {
     "name": "stdout",
     "output_type": "stream",
     "text": [
      "Requirement already satisfied: fpdf in c:\\programdata\\anaconda3\\lib\\site-packages (1.7.2)\n",
      "Note: you may need to restart the kernel to use updated packages.\n"
     ]
    }
   ],
   "source": [
    "pip install fpdf"
   ]
  },
  {
   "cell_type": "code",
   "execution_count": null,
   "id": "1ab664f9-c124-42ea-87c6-d6c1e8684541",
   "metadata": {},
   "outputs": [],
   "source": [
    "#In this code we have 2 routes:- register and login"
   ]
  },
  {
   "cell_type": "code",
   "execution_count": null,
   "id": "984c1a3e-3872-488b-9c61-c662b4fc2c95",
   "metadata": {
    "tags": []
   },
   "outputs": [
    {
     "name": "stdout",
     "output_type": "stream",
     "text": [
      " * Serving Flask app '__main__'\n",
      " * Debug mode: off\n"
     ]
    },
    {
     "name": "stderr",
     "output_type": "stream",
     "text": [
      "WARNING: This is a development server. Do not use it in a production deployment. Use a production WSGI server instead.\n",
      " * Running on http://127.0.0.1:5000\n",
      "Press CTRL+C to quit\n"
     ]
    }
   ],
   "source": [
    "from flask import Flask, render_template, request, jsonify\n",
    "import csv\n",
    "import json\n",
    "from fpdf import FPDF\n",
    "\n",
    "app = Flask(__name__)\n",
    "\n",
    "# Route for the registration form\n",
    "@app.route('/register', methods=['GET', 'POST'])\n",
    "def register():\n",
    "    if request.method == 'POST':\n",
    "        # Get the form data\n",
    "        name = request.form.get('name')\n",
    "        email = request.form.get('email')\n",
    "        password = request.form.get('password')\n",
    "        # ... get other form fields\n",
    "\n",
    "        # Convert the data to JSON\n",
    "        data = {\n",
    "            'name': name,\n",
    "            'email': email,\n",
    "            'password': password\n",
    "            # ... add other form fields\n",
    "        }\n",
    "        json_data = json.dumps(data)\n",
    "\n",
    "        # Write JSON data to a file\n",
    "        with open('data.json', 'w') as file:\n",
    "            file.write(json_data)\n",
    "\n",
    "        return 'Registration Successful'\n",
    "    return render_template('register.html')\n",
    "\n",
    "# Route for the login form\n",
    "@app.route('/login', methods=['GET', 'POST'])\n",
    "def login():\n",
    "    if request.method == 'POST':\n",
    "        # Get the form data\n",
    "        email = request.form.get('email')\n",
    "        password = request.form.get('password')\n",
    "\n",
    "        # Check if the credentials are valid\n",
    "        # ... your authentication logic here\n",
    "\n",
    "        return 'Login Successful'\n",
    "    return render_template('login.html')\n",
    "\n",
    "# Route to generate PDF from JSON or CSV data\n",
    "@app.route('/generate_pdf', methods=['POST'])\n",
    "def generate_pdf():\n",
    "    # Get the data from the file\n",
    "    with open('data.json', 'r') as file:\n",
    "        json_data = json.load(file)\n",
    "\n",
    "    # Generate PDF using FPDF library\n",
    "    pdf = FPDF()\n",
    "    pdf.add_page()\n",
    "    # ... your PDF template and content generation logic here\n",
    "    pdf.output('bill.pdf')\n",
    "\n",
    "    return 'PDF generated'\n",
    "\n",
    "if __name__ == '__main__':\n",
    "    app.run()"
   ]
  },
  {
   "cell_type": "code",
   "execution_count": null,
   "id": "b70c47a8-06c3-40c5-bc79-e14dc15c44c7",
   "metadata": {},
   "outputs": [],
   "source": [
    "#install the library of mysql in python"
   ]
  },
  {
   "cell_type": "code",
   "execution_count": null,
   "id": "dea00fd9-77e5-40ec-a872-a363439e19af",
   "metadata": {
    "tags": []
   },
   "outputs": [],
   "source": [
    "pip install mysql-connector-python"
   ]
  },
  {
   "cell_type": "code",
   "execution_count": null,
   "id": "ba57fb7a-3af3-43db-9e2f-12de60a5236e",
   "metadata": {
    "tags": []
   },
   "outputs": [],
   "source": [
    "import mysql.connector\n",
    "\n",
    "# Connect to the MySQL database\n",
    "cnx = mysql.connector.connect(user='Admin', password='admin@646',\n",
    "                              host='8080',\n",
    "                              database='mysqldb')\n",
    "\n",
    "# Create a cursor object to interact with the database\n",
    "cursor = cnx.cursor()\n",
    "\n",
    "# Insert data into a table\n",
    "data = {'name': 'John', 'age': 25, 'email': 'john@abc.com'}\n",
    "query = \"INSERT INTO worker (name, age, email) VALUES (\"shiva\", 30, shiva@abc.com)\"\n",
    "values = (data['name'], data['age'], data['email'])\n",
    "cursor.execute(query, values)\n",
    "\n",
    "# Commit the changes and close the connection\n",
    "cnx.commit()\n",
    "cursor.close()\n",
    "cnx.close()"
   ]
  },
  {
   "cell_type": "code",
   "execution_count": null,
   "id": "7acac1a7-ef38-4bca-82f2-4370086ed128",
   "metadata": {},
   "outputs": [],
   "source": [
    "import csv\n",
    "\n",
    "data = [\n",
    "    {'name': 'shiva', 'age': 30, 'email': 'shiva@abc.com'}\n",
    "]\n",
    "\n",
    "# Specify the file path and name\n",
    "file_path = 'Downloads/file.csv'\n",
    "\n",
    "# Write data to the CSV file\n",
    "with open(file_path, 'w', newline='') as csvfile:\n",
    "    fieldnames = ['name', 'age', 'email']\n",
    "    writer = csv.DictWriter(csvfile, fieldnames=fieldnames)\n",
    "    writer.writeheader()\n",
    "    writer.writerows(data)"
   ]
  }
 ],
 "metadata": {
  "kernelspec": {
   "display_name": "Python 3 (ipykernel)",
   "language": "python",
   "name": "python3"
  },
  "language_info": {
   "codemirror_mode": {
    "name": "ipython",
    "version": 3
   },
   "file_extension": ".py",
   "mimetype": "text/x-python",
   "name": "python",
   "nbconvert_exporter": "python",
   "pygments_lexer": "ipython3",
   "version": "3.11.5"
  }
 },
 "nbformat": 4,
 "nbformat_minor": 5
}
